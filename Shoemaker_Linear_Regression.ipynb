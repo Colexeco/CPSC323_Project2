{
 "cells": [
  {
   "cell_type": "code",
   "execution_count": 2,
   "metadata": {},
   "outputs": [],
   "source": [
    "import pandas as pd\n",
    "import numpy as np\n",
    "from sklearn.linear_model import LinearRegression"
   ]
  },
  {
   "cell_type": "code",
   "execution_count": 1,
   "metadata": {},
   "outputs": [
    {
     "name": "stdout",
     "output_type": "stream",
     "text": [
      "Collecting nasdaq-data-link\n",
      "  Downloading Nasdaq_Data_Link-1.0.4-py2.py3-none-any.whl (28 kB)\n",
      "Requirement already satisfied: pandas>=0.14 in c:\\users\\evans\\anaconda3\\lib\\site-packages (from nasdaq-data-link) (1.4.2)\n",
      "Requirement already satisfied: six in c:\\users\\evans\\anaconda3\\lib\\site-packages (from nasdaq-data-link) (1.16.0)\n",
      "Requirement already satisfied: requests>=2.7.0 in c:\\users\\evans\\anaconda3\\lib\\site-packages (from nasdaq-data-link) (2.27.1)\n",
      "Collecting more-itertools\n",
      "  Downloading more_itertools-10.1.0-py3-none-any.whl (55 kB)\n",
      "Requirement already satisfied: numpy>=1.8 in c:\\users\\evans\\anaconda3\\lib\\site-packages (from nasdaq-data-link) (1.21.5)\n",
      "Requirement already satisfied: inflection>=0.3.1 in c:\\users\\evans\\anaconda3\\lib\\site-packages (from nasdaq-data-link) (0.5.1)\n",
      "Requirement already satisfied: python-dateutil in c:\\users\\evans\\anaconda3\\lib\\site-packages (from nasdaq-data-link) (2.8.2)\n",
      "Requirement already satisfied: pytz>=2020.1 in c:\\users\\evans\\anaconda3\\lib\\site-packages (from pandas>=0.14->nasdaq-data-link) (2021.3)\n",
      "Requirement already satisfied: urllib3<1.27,>=1.21.1 in c:\\users\\evans\\anaconda3\\lib\\site-packages (from requests>=2.7.0->nasdaq-data-link) (1.26.9)\n",
      "Requirement already satisfied: idna<4,>=2.5 in c:\\users\\evans\\anaconda3\\lib\\site-packages (from requests>=2.7.0->nasdaq-data-link) (3.3)\n",
      "Requirement already satisfied: charset-normalizer~=2.0.0 in c:\\users\\evans\\anaconda3\\lib\\site-packages (from requests>=2.7.0->nasdaq-data-link) (2.0.4)\n",
      "Requirement already satisfied: certifi>=2017.4.17 in c:\\users\\evans\\anaconda3\\lib\\site-packages (from requests>=2.7.0->nasdaq-data-link) (2021.10.8)\n",
      "Installing collected packages: more-itertools, nasdaq-data-link\n",
      "Successfully installed more-itertools-10.1.0 nasdaq-data-link-1.0.4\n"
     ]
    }
   ],
   "source": [
    "class Model():\n",
    "  def __init__(self):\n",
    "    pass\n",
    "\n",
    "  def predict(self, x):\n",
    "    predicted_labels = [self._predict(x) for x in x]\n",
    "    return np.array(predicted_labels)\n",
    "\n",
    "  def _predict(self, x):\n",
    "    return \"male\"\n",
    "\n",
    "  def accuracy(self, predicted, actual):\n",
    "    return np.sum(predicted == actual) / len(actual)\n"
   ]
  }
 ],
 "metadata": {
  "kernelspec": {
   "display_name": "base",
   "language": "python",
   "name": "python3"
  },
  "language_info": {
   "codemirror_mode": {
    "name": "ipython",
    "version": 3
   },
   "file_extension": ".py",
   "mimetype": "text/x-python",
   "name": "python",
   "nbconvert_exporter": "python",
   "pygments_lexer": "ipython3",
   "version": "3.9.12"
  },
  "orig_nbformat": 4
 },
 "nbformat": 4,
 "nbformat_minor": 2
}
