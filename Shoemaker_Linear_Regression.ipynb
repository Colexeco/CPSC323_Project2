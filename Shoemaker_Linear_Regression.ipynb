{
 "cells": [
  {
   "cell_type": "code",
   "execution_count": 89,
   "metadata": {},
   "outputs": [],
   "source": [
    "import pandas as pd\n",
    "import numpy as np\n",
    "from sklearn.linear_model import LinearRegression\n",
    "from sklearn.model_selection import train_test_split\n",
    "import sklearn.metrics as m\n",
    "import matplotlib.pyplot as plt"
   ]
  },
  {
   "cell_type": "code",
   "execution_count": 90,
   "metadata": {},
   "outputs": [],
   "source": [
    "class Model():\n",
    "  model: LinearRegression\n",
    "\n",
    "  def __init__(self):\n",
    "    self.LinearRegression = LinearRegression()\n",
    "\n",
    "  def fit(self, x, y):\n",
    "    return self.LinearRegression.fit(x, y)\n",
    "\n",
    "  def predict(self, x):\n",
    "    predicted_labels = [self.model.predict(x)]\n",
    "    return predicted_labels\n",
    "\n",
    "  def accuracy(self, predicted, actual):\n",
    "    mse = m.mean_squared_error(predicted, actual)\n",
    "    return np.sqrt(mse)\n"
   ]
  },
  {
   "cell_type": "code",
   "execution_count": 91,
   "metadata": {},
   "outputs": [
    {
     "data": {
      "text/html": [
       "<div>\n",
       "<style scoped>\n",
       "    .dataframe tbody tr th:only-of-type {\n",
       "        vertical-align: middle;\n",
       "    }\n",
       "\n",
       "    .dataframe tbody tr th {\n",
       "        vertical-align: top;\n",
       "    }\n",
       "\n",
       "    .dataframe thead th {\n",
       "        text-align: right;\n",
       "    }\n",
       "</style>\n",
       "<table border=\"1\" class=\"dataframe\">\n",
       "  <thead>\n",
       "    <tr style=\"text-align: right;\">\n",
       "      <th></th>\n",
       "      <th>Unnamed: 0</th>\n",
       "      <th>eruptions</th>\n",
       "      <th>waiting</th>\n",
       "    </tr>\n",
       "  </thead>\n",
       "  <tbody>\n",
       "    <tr>\n",
       "      <th>0</th>\n",
       "      <td>1</td>\n",
       "      <td>3.600</td>\n",
       "      <td>79</td>\n",
       "    </tr>\n",
       "    <tr>\n",
       "      <th>1</th>\n",
       "      <td>2</td>\n",
       "      <td>1.800</td>\n",
       "      <td>54</td>\n",
       "    </tr>\n",
       "    <tr>\n",
       "      <th>2</th>\n",
       "      <td>3</td>\n",
       "      <td>3.333</td>\n",
       "      <td>74</td>\n",
       "    </tr>\n",
       "    <tr>\n",
       "      <th>3</th>\n",
       "      <td>4</td>\n",
       "      <td>2.283</td>\n",
       "      <td>62</td>\n",
       "    </tr>\n",
       "    <tr>\n",
       "      <th>4</th>\n",
       "      <td>5</td>\n",
       "      <td>4.533</td>\n",
       "      <td>85</td>\n",
       "    </tr>\n",
       "  </tbody>\n",
       "</table>\n",
       "</div>"
      ],
      "text/plain": [
       "   Unnamed: 0  eruptions  waiting\n",
       "0           1      3.600       79\n",
       "1           2      1.800       54\n",
       "2           3      3.333       74\n",
       "3           4      2.283       62\n",
       "4           5      4.533       85"
      ]
     },
     "execution_count": 91,
     "metadata": {},
     "output_type": "execute_result"
    }
   ],
   "source": [
    "df = pd.read_csv(\"faithful.csv\")\n",
    "#Old Faithful Geyser data (eruption duration, waiting time in days)\n",
    "#from: https://www.kaggle.com/datasets/janithwanni/old-faithful?resource=download\n",
    "df.head(5)"
   ]
  },
  {
   "cell_type": "code",
   "execution_count": 92,
   "metadata": {},
   "outputs": [
    {
     "name": "stderr",
     "output_type": "stream",
     "text": [
      "No artists with labels found to put in legend.  Note that artists whose label start with an underscore are ignored when legend() is called with no argument.\n"
     ]
    },
    {
     "data": {
      "image/png": "[encoded data removed]",
      "text/plain": [
       "<Figure size 432x288 with 1 Axes>"
      ]
     },
     "metadata": {
      "needs_background": "light"
     },
     "output_type": "display_data"
    }
   ],
   "source": [
    "plt.figure()\n",
    "plt.scatter(df[\"waiting\"], df[\"eruptions\"])\n",
    "plt.xlabel(\"Waiting time in days since last eruption\")\n",
    "plt.ylabel(\"Eruption duration in seconds\")\n",
    "plt.title(\"Old Faithful Eruption times\")\n",
    "plt.grid()\n",
    "plt.legend()\n",
    "plt.show()"
   ]
  },
  {
   "cell_type": "code",
   "execution_count": 93,
   "metadata": {},
   "outputs": [],
   "source": [
    "eruptions = df.loc[:, \"eruptions\"] \n",
    "time = df.loc[:, \"waiting\"]\n",
    "X_train, X_test, Y_train, Y_test = train_test_split(eruptions, time)"
   ]
  },
  {
   "cell_type": "code",
   "execution_count": 94,
   "metadata": {},
   "outputs": [
    {
     "data": {
      "text/plain": [
       "LinearRegression()"
      ]
     },
     "execution_count": 94,
     "metadata": {},
     "output_type": "execute_result"
    }
   ],
   "source": [
    "X_train = np.array(X_train)\n",
    "Y_train = np.array(Y_train)\n",
    "eruptions = np.array(eruptions)\n",
    "model = Model()\n",
    "model.LinearRegression.fit(X_train.reshape(-1, 1), Y_train.reshape(-1, 1))"
   ]
  },
  {
   "cell_type": "code",
   "execution_count": 95,
   "metadata": {},
   "outputs": [],
   "source": [
    "X_test = pd.Series(X_test)\n",
    "X_test = np.array(X_test)"
   ]
  },
  {
   "cell_type": "code",
   "execution_count": 96,
   "metadata": {},
   "outputs": [
    {
     "name": "stdout",
     "output_type": "stream",
     "text": [
      "CPU times: total: 0 ns\n",
      "Wall time: 0 ns\n"
     ]
    }
   ],
   "source": [
    "%%time\n",
    "Y_pred = model.LinearRegression.predict(X_test.reshape(-1, 1))"
   ]
  },
  {
   "cell_type": "code",
   "execution_count": 97,
   "metadata": {},
   "outputs": [
    {
     "name": "stdout",
     "output_type": "stream",
     "text": [
      "[[78.16448094]\n",
      " [83.40749448]\n",
      " [79.79274601]\n",
      " [83.77656789]\n",
      " [58.80983678]\n",
      " [81.42101109]\n",
      " [80.33550104]\n",
      " [75.99346084]\n",
      " [85.40483296]\n",
      " [59.3525918 ]\n",
      " [81.7792294 ]\n",
      " [54.09872317]\n",
      " [75.63524253]\n",
      " [53.92504156]\n",
      " [58.44076336]\n",
      " [78.34901765]\n",
      " [82.86473945]\n",
      " [51.21126644]\n",
      " [86.66402462]\n",
      " [78.52269926]\n",
      " [74.9079508 ]\n",
      " [64.59560533]\n",
      " [52.11223978]\n",
      " [75.63524253]\n",
      " [78.16448094]\n",
      " [82.86473945]\n",
      " [76.53621587]\n",
      " [53.19774983]\n",
      " [81.42101109]\n",
      " [53.01321312]\n",
      " [54.46779658]\n",
      " [81.06279277]\n",
      " [53.55596814]\n",
      " [61.5236119 ]\n",
      " [82.69105784]\n",
      " [84.13478621]\n",
      " [83.04927616]\n",
      " [64.41106863]\n",
      " [79.60820931]\n",
      " [84.49300452]\n",
      " [52.47045809]\n",
      " [82.86473945]\n",
      " [83.04927616]\n",
      " [81.96376611]\n",
      " [78.70723597]\n",
      " [81.42101109]\n",
      " [80.52003775]\n",
      " [58.98351838]\n",
      " [56.63881668]\n",
      " [58.26708175]\n",
      " [86.3058063 ]\n",
      " [56.997035  ]\n",
      " [55.18423321]\n",
      " [54.09872317]\n",
      " [77.07897089]\n",
      " [55.72698824]\n",
      " [81.60554779]\n",
      " [83.40749448]\n",
      " [81.96376611]\n",
      " [57.35525331]\n",
      " [76.53621587]\n",
      " [78.16448094]\n",
      " [84.13478621]\n",
      " [81.96376611]\n",
      " [53.38228653]\n",
      " [80.15096433]\n",
      " [82.50652113]\n",
      " [54.64147819]]\n"
     ]
    }
   ],
   "source": [
    "print(Y_pred)"
   ]
  },
  {
   "cell_type": "code",
   "execution_count": 98,
   "metadata": {},
   "outputs": [
    {
     "name": "stdout",
     "output_type": "stream",
     "text": [
      "           0\n",
      "0  78.164481\n",
      "1  83.407494\n",
      "2  79.792746\n",
      "3  83.776568\n",
      "4  58.809837\n",
      "     waiting\n",
      "254       88\n",
      "115       81\n",
      "30        73\n",
      "96        84\n",
      "166       63\n",
      "5.596070555821633\n"
     ]
    }
   ],
   "source": [
    "Y_pred = pd.DataFrame(Y_pred)\n",
    "print(Y_pred.head(5))\n",
    "Y_test = pd.DataFrame(Y_test)\n",
    "print(Y_test.head(5))\n",
    "Y_test = np.array(Y_test)\n",
    "print(model.accuracy(Y_pred, Y_test.reshape(-1, 1)))"
   ]
  }
 ],
 "metadata": {
  "kernelspec": {
   "display_name": "base",
   "language": "python",
   "name": "python3"
  },
  "language_info": {
   "codemirror_mode": {
    "name": "ipython",
    "version": 3
   },
   "file_extension": ".py",
   "mimetype": "text/x-python",
   "name": "python",
   "nbconvert_exporter": "python",
   "pygments_lexer": "ipython3",
   "version": "3.9.12"
  },
  "orig_nbformat": 4
 },
 "nbformat": 4,
 "nbformat_minor": 2
}
